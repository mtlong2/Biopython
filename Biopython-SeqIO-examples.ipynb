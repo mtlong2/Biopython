{
 "cells": [
  {
   "cell_type": "code",
   "execution_count": 1,
   "metadata": {},
   "outputs": [],
   "source": [
    "from Bio import SeqIO\n",
    "#help(SeqIO)"
   ]
  },
  {
   "cell_type": "code",
   "execution_count": 2,
   "metadata": {},
   "outputs": [],
   "source": [
    "from pathlib import Path"
   ]
  },
  {
   "cell_type": "code",
   "execution_count": 3,
   "metadata": {},
   "outputs": [
    {
     "data": {
      "text/plain": [
       "PosixPath('/Users/mathewlong/Documents/Machine-Learning-Models-Data/Genomic-Data')"
      ]
     },
     "execution_count": 3,
     "metadata": {},
     "output_type": "execute_result"
    }
   ],
   "source": [
    "path = Path('..Genomic-Data/'); path"
   ]
  },
  {
   "cell_type": "code",
   "execution_count": 4,
   "metadata": {},
   "outputs": [],
   "source": [
    "fname = 'ls_orchid.fasta'"
   ]
  },
  {
   "cell_type": "code",
   "execution_count": 6,
   "metadata": {},
   "outputs": [
    {
     "name": "stdout",
     "output_type": "stream",
     "text": [
      "gi|2765658|emb|Z78533.1|CIZ78533\n",
      "Seq('CGTAACAAGGTTTCCGTAGGTGAACCTGCGGAAGGATCATTGATGAGACCGTGG...CGC')\n",
      "740\n",
      "gi|2765657|emb|Z78532.1|CCZ78532\n",
      "Seq('CGTAACAAGGTTTCCGTAGGTGAACCTGCGGAAGGATCATTGTTGAGACAACAG...GGC')\n",
      "753\n",
      "gi|2765656|emb|Z78531.1|CFZ78531\n",
      "Seq('CGTAACAAGGTTTCCGTAGGTGAACCTGCGGAAGGATCATTGTTGAGACAGCAG...TAA')\n",
      "748\n",
      "gi|2765655|emb|Z78530.1|CMZ78530\n",
      "Seq('CGTAACAAGGTTTCCGTAGGTGAACCTGCGGAAGGATCATTGTTGAAACAACAT...CAT')\n",
      "744\n",
      "gi|2765654|emb|Z78529.1|CLZ78529\n",
      "Seq('ACGGCGAGCTGCCGAAGGACATTGTTGAGACAGCAGAATATACGATTGAGTGAA...AAA')\n",
      "733\n",
      "gi|2765652|emb|Z78527.1|CYZ78527\n",
      "Seq('CGTAACAAGGTTTCCGTAGGTGAACCTGCGGAAGGATCATTGTTGAGACAGTAG...CCC')\n",
      "718\n",
      "gi|2765651|emb|Z78526.1|CGZ78526\n",
      "Seq('CGTAACAAGGTTTCCGTAGGTGAACCTGCGGAAGGATCATTGTTGAGACAGTAG...TGT')\n",
      "730\n",
      "gi|2765650|emb|Z78525.1|CAZ78525\n",
      "Seq('TGTTGAGATAGCAGAATATACATCGAGTGAATCCGGAGGACCTGTGGTTATTCG...GCA')\n",
      "704\n",
      "gi|2765649|emb|Z78524.1|CFZ78524\n",
      "Seq('CGTAACAAGGTTTCCGTAGGTGAACCTGCGGAAGGATCATTGTTGAGATAGTAG...AGC')\n",
      "740\n",
      "gi|2765648|emb|Z78523.1|CHZ78523\n",
      "Seq('CGTAACCAGGTTTCCGTAGGTGAACCTGCGGCAGGATCATTGTTGAGACAGCAG...AAG')\n",
      "709\n",
      "gi|2765647|emb|Z78522.1|CMZ78522\n",
      "Seq('CGTAACAAGGTTTCCGTAGGTGAACCTGCGGAAGGATCATTGTTGAGACAGCAG...GAG')\n",
      "700\n",
      "gi|2765646|emb|Z78521.1|CCZ78521\n",
      "Seq('GTAGGTGAACCTGCGGAAGGATCATTGTTGAGACAGTAGAATATATGATCGAGT...ACC')\n",
      "726\n",
      "gi|2765645|emb|Z78520.1|CSZ78520\n",
      "Seq('CGTAACAAGGTTTCCGTAGGTGAACCTGCGGAAGGATCATTGTTGAGACAGCAG...TTT')\n",
      "753\n",
      "gi|2765644|emb|Z78519.1|CPZ78519\n",
      "Seq('ATATGATCGAGTGAATCTGGTGGACTTGTGGTTACTCAGCTCGCCATAGGCTTT...TTA')\n",
      "699\n",
      "gi|2765643|emb|Z78518.1|CRZ78518\n",
      "Seq('CGTAACAAGGTTTCCGTAGGTGAACCTGCGGGAGGATCATTGTTGAGATAGTAG...TCC')\n",
      "658\n",
      "gi|2765642|emb|Z78517.1|CFZ78517\n",
      "Seq('CGTAACAAGGTTTCCGTAGGTGAACCTGCGGAAGGATCATTGTTGAGACAGTAG...AGC')\n",
      "752\n",
      "gi|2765641|emb|Z78516.1|CPZ78516\n",
      "Seq('CGTAACAAGGTTTCCGTAGGTGAACCTGCGGAAGGATCATTGTTGAGACAGTAT...TAA')\n",
      "726\n",
      "gi|2765640|emb|Z78515.1|MXZ78515\n",
      "Seq('CGTAACAAGGTTTCCGTAGGTGAACCTGCGGAAGGATCATTGCTGAGACCGTAG...AGC')\n",
      "765\n",
      "gi|2765639|emb|Z78514.1|PSZ78514\n",
      "Seq('CGTAACAAGGTTTCCGTAGGTGGACCTTCGGGAGGATCATTTTTGAAGCCCCCA...CTA')\n",
      "755\n",
      "gi|2765638|emb|Z78513.1|PBZ78513\n",
      "Seq('CGTAACAAGGTTTCCGTAGGTGAACCTGCGGAAGGATCATTGTTGAGACCGCCA...GAG')\n",
      "742\n",
      "gi|2765637|emb|Z78512.1|PWZ78512\n",
      "Seq('CGTAACAAGGTTTCCGTAGGTGGACCTTCGGGAGGATCATTTTTGAAGCCCCCA...AGC')\n",
      "762\n",
      "gi|2765636|emb|Z78511.1|PEZ78511\n",
      "Seq('CGTAACAAGGTTTCCGTAGGTGAACCTTCGGAAGGATCATTGTTGAGACCCCCA...GGA')\n",
      "745\n",
      "gi|2765635|emb|Z78510.1|PCZ78510\n",
      "Seq('CTAACCAGGGTTCCGAGGTGACCTTCGGGAGGATTCCTTTTTAAGCCCCCGAAA...TTA')\n",
      "750\n",
      "gi|2765634|emb|Z78509.1|PPZ78509\n",
      "Seq('CGTAACAAGGTTTCCGTAGGTGAACCTGCGGAAGGATCATTGTTGAGACCGCCA...GGA')\n",
      "731\n",
      "gi|2765633|emb|Z78508.1|PLZ78508\n",
      "Seq('CGTAACAAGGTTTCCGTAGGTGAACCTGCGGAAGGATCATTGTTGAGACCGCCA...TGA')\n",
      "741\n",
      "gi|2765632|emb|Z78507.1|PLZ78507\n",
      "Seq('CGTAACAAGGTTTCCGTAGGTGAACCTGCGGAAGGATCATTGTTGAGACCCCCA...TGA')\n",
      "740\n",
      "gi|2765631|emb|Z78506.1|PLZ78506\n",
      "Seq('CGTAACAAGGTTTCCGTAGGTGAACCTGCGGAAGGATCATTGTTGAGACCGCAA...TGA')\n",
      "727\n",
      "gi|2765630|emb|Z78505.1|PSZ78505\n",
      "Seq('CGTAACAAGGTTTCCGTAGGTGAACCTGCGGAAGGATCATTGTTGAGACCGCCA...TTT')\n",
      "711\n",
      "gi|2765629|emb|Z78504.1|PKZ78504\n",
      "Seq('CGTAACAAGGTTTCCGTAGGTGAACCTTCGGAAGGATCATTGTTGAGACCGCAA...TAA')\n",
      "743\n",
      "gi|2765628|emb|Z78503.1|PCZ78503\n",
      "Seq('CGTAACCAGGTTTCCGTAGGTGAACCTCCGGAAGGATCCTTGTTGAGACCGCCA...TAA')\n",
      "727\n",
      "gi|2765627|emb|Z78502.1|PBZ78502\n",
      "Seq('CGTAACCAGGTTTCCGTAGGTGAACCTCCGGAAGGATCATTGTTGAGACCGCCA...CGC')\n",
      "757\n",
      "gi|2765626|emb|Z78501.1|PCZ78501\n",
      "Seq('CGTAACAAGGTTTCCGTAGGTGAACCTGCGGAAGGATCATTGTTGAGACCGCAA...AGA')\n",
      "770\n",
      "gi|2765625|emb|Z78500.1|PWZ78500\n",
      "Seq('CGTAACAAGGTTTCCGTAGGTGAACCTGCGGAAGGCTCATTGTTGAGACCGCAA...AAG')\n",
      "767\n",
      "gi|2765624|emb|Z78499.1|PMZ78499\n",
      "Seq('CGTAACAAGGTTTCCGTAGGTGAACCTGCGGAGGGATCATTGTTGAGATCGCAT...ACC')\n",
      "759\n",
      "gi|2765623|emb|Z78498.1|PMZ78498\n",
      "Seq('CGTAACAAGGTTTCCGTAGGTGAACCTGCGGAAAGGTCATTGTTGAGATCACAT...AGC')\n",
      "750\n",
      "gi|2765622|emb|Z78497.1|PDZ78497\n",
      "Seq('CGTAACAAGGTTTCCGTAGGTGAACCTGCGGAAGGATCATTGTTGAGATCACAT...AGC')\n",
      "788\n",
      "gi|2765621|emb|Z78496.1|PAZ78496\n",
      "Seq('CGTAACAAGGTTTCCGTAGGTGAACCTGCGGAAGGATCATTGTTGAGATCGCAT...AGC')\n",
      "774\n",
      "gi|2765620|emb|Z78495.1|PEZ78495\n",
      "Seq('CGTAACAAGGTTTCCGTAGGTGAACCTCCGGAAGGATCATTGTTGAGATCACAT...GTG')\n",
      "789\n",
      "gi|2765619|emb|Z78494.1|PNZ78494\n",
      "Seq('CGTAACAAGGTTTCCGTAGGTGAACCTGCGGAAGGATCATTGTTGAGGTCGCAT...AAG')\n",
      "688\n",
      "gi|2765618|emb|Z78493.1|PGZ78493\n",
      "Seq('CGTAACAAGGATTCCGTAGGTGAACCTGCGGAAGGATCATTGTTGAGATCGCAT...CCC')\n",
      "719\n",
      "gi|2765617|emb|Z78492.1|PBZ78492\n",
      "Seq('CGTAACAAGGTTTCCGTAGGTGAACCTGCGGAAGGATCATTGTTGAGATCGCAT...ATA')\n",
      "743\n",
      "gi|2765616|emb|Z78491.1|PCZ78491\n",
      "Seq('CGTAACAAGGTTTCCGTAGGTGAACCTGCGGAAGGATCATTGTTGAGATCGCAT...AGC')\n",
      "737\n",
      "gi|2765615|emb|Z78490.1|PFZ78490\n",
      "Seq('CGTAACAAGGTTTCCGTAGGTGAACCTGCGGAAGGATCATTGTTGAGATCACAT...TGA')\n",
      "728\n",
      "gi|2765614|emb|Z78489.1|PDZ78489\n",
      "Seq('CGTAACAAGGTTTCCGTAGGTGAACCTGCGGAAGGATCATTGTTGAGATCACAT...GGC')\n",
      "740\n",
      "gi|2765613|emb|Z78488.1|PTZ78488\n",
      "Seq('CTGTAGGTGAACCTGCGGAAGGATCATTGTTGAGATCACGCAATAATTGATCGA...GCT')\n",
      "696\n",
      "gi|2765612|emb|Z78487.1|PHZ78487\n",
      "Seq('CGTAACAAGGTTTCCGTAGGTGAACCTGCGGAAGGATCATTGTTGAGATCACAT...TAA')\n",
      "732\n",
      "gi|2765611|emb|Z78486.1|PBZ78486\n",
      "Seq('CGTCACGAGGTTTCCGTAGGTGAATCTGCGGGAGGATCATTGTTGAGATCACAT...TGA')\n",
      "731\n",
      "gi|2765610|emb|Z78485.1|PHZ78485\n",
      "Seq('CTGAACCTGGTGTCCGAAGGTGAATCTGCGGATGGATCATTGTTGAGATATCAT...GTA')\n",
      "735\n",
      "gi|2765609|emb|Z78484.1|PCZ78484\n",
      "Seq('CGTAACAAGGTTTCCGTAGGTGAACCTGGGGAAGGATCATTGTTGAGATCACAT...TTT')\n",
      "720\n",
      "gi|2765608|emb|Z78483.1|PVZ78483\n",
      "Seq('CGTAACAAGGTTTCCGTAGGTGAACCTGCGGAAGGATCATTGTTGAGATCACAT...GCA')\n",
      "740\n",
      "gi|2765607|emb|Z78482.1|PEZ78482\n",
      "Seq('TCTACTGCAGTGACCGAGATTTGCCATCGAGCCTCCTGGGAGCTTTCTTGCTGG...GCA')\n",
      "629\n",
      "gi|2765606|emb|Z78481.1|PIZ78481\n",
      "Seq('CGTAACAAGGTTTCCGTAGGTGAACCTGCGGAAGGATCATTGTTGAGATCACAT...TGA')\n",
      "572\n",
      "gi|2765605|emb|Z78480.1|PGZ78480\n",
      "Seq('CGTAACAAGGTTTCCGTAGGTGAACCTGCGGAAGGATCATTGTTGAGATCACAT...TGA')\n",
      "587\n",
      "gi|2765604|emb|Z78479.1|PPZ78479\n",
      "Seq('CGTAACAAGGTTTCCGTAGGTGAACCTGCGGAAGGATCATTGTTGAGATCACAT...AGT')\n",
      "700\n",
      "gi|2765603|emb|Z78478.1|PVZ78478\n",
      "Seq('CGTAACAAGGTTTCCGTAGGTGAACCTCCGGAAGGATCAGTGTTGAGATCACAT...GGC')\n",
      "636\n",
      "gi|2765602|emb|Z78477.1|PVZ78477\n",
      "Seq('CGTAACAAGGTTTCCGTAGGTGAACCTGCGGAAGGATCATTGTTGAGATCACAT...TGC')\n",
      "716\n",
      "gi|2765601|emb|Z78476.1|PGZ78476\n",
      "Seq('CGTAACAAGGTTTCCGTAGGTGAACCTGCGGAAGGATCATTGTTGAGATCACAT...CCC')\n",
      "592\n",
      "gi|2765600|emb|Z78475.1|PSZ78475\n",
      "Seq('CGTAACAAGGTTTCCGTAGGTGAACCTGCGGAAGGATCATTGTTGAGATCACAT...GGT')\n",
      "716\n",
      "gi|2765599|emb|Z78474.1|PKZ78474\n",
      "Seq('CGTAACAAGGTTTCCGTAGGTGAACCTGCGGAAGGATCATTGTTGAGATCACGT...CTT')\n",
      "733\n",
      "gi|2765598|emb|Z78473.1|PSZ78473\n",
      "Seq('CGTAACAAGGTTTCCGTAGGTGAACCTGCGGAAGGATCATTGTTGAGATCACAT...AGG')\n",
      "626\n",
      "gi|2765597|emb|Z78472.1|PLZ78472\n",
      "Seq('CGTAACAAGGTTTCCGTAGGTGAACCTGCGGAAGGATCATTGTTGAGATCACAT...AGC')\n",
      "737\n",
      "gi|2765596|emb|Z78471.1|PDZ78471\n",
      "Seq('CGTAACAAGGTTTCCGTAGGTGAACCTGCGGAAGGATCATTGTTGAGATCACAT...AGC')\n",
      "740\n",
      "gi|2765595|emb|Z78470.1|PPZ78470\n",
      "Seq('CGTAACAAGGTTTCCGTAGGTGAACCTGCGGAAGGATCATTGTTGAGATCACAT...GTT')\n",
      "574\n",
      "gi|2765594|emb|Z78469.1|PHZ78469\n",
      "Seq('CGTAACAAGGTTTCCGTAGGTGAACCTGCGGAAGGATCATTGTTGAGATCACAT...GTT')\n",
      "594\n",
      "gi|2765593|emb|Z78468.1|PAZ78468\n",
      "Seq('CGTAACAAGGTTTCCGTAGGTGAACCTGCGGAAGGATCATTGTTGAGATCGCAT...GTT')\n",
      "610\n",
      "gi|2765592|emb|Z78467.1|PSZ78467\n",
      "Seq('CGTAACAAGGTTTCCGTAGGTGAACCTGCGGAAGGATCATTGTTGAGATCACAT...TGA')\n",
      "730\n",
      "gi|2765591|emb|Z78466.1|PPZ78466\n",
      "Seq('CGTAACAAGGTTTCCGTAGGTGAACCTGCGGAAGGATCATTGTTGAGATCACAT...CCC')\n",
      "641\n",
      "gi|2765590|emb|Z78465.1|PRZ78465\n",
      "Seq('CGTAACAAGGTTTCCGTAGGTGAACCTGCGGAAGGATCATTGTTGAGATCACAT...TGC')\n",
      "702\n",
      "gi|2765589|emb|Z78464.1|PGZ78464\n",
      "Seq('CGTAACAAGGTTTCCGTAGGTGAGCGGAAGGGTCATTGTTGAGATCACATAATA...AGC')\n",
      "733\n",
      "gi|2765588|emb|Z78463.1|PGZ78463\n",
      "Seq('CGTAACAAGGTTTCCGTAGGTGAACCTGCGGAAGGTTCATTGTTGAGATCACAT...AGC')\n",
      "738\n",
      "gi|2765587|emb|Z78462.1|PSZ78462\n",
      "Seq('CGTCACGAGGTCTCCGGATGTGACCCTGCGGAAGGATCATTGTTGAGATCACAT...CAT')\n",
      "736\n",
      "gi|2765586|emb|Z78461.1|PWZ78461\n",
      "Seq('CGTAACAAGGTTTCCGTAGGTGAACCTCCGGAAGGATCATTGTTGAGATCACAT...TAA')\n",
      "732\n",
      "gi|2765585|emb|Z78460.1|PCZ78460\n",
      "Seq('CGTAACAAGGTTTCCGTAGGTGAACCTCCGGAAGGATCATTGTTGAGATCACAT...TTA')\n",
      "745\n",
      "gi|2765584|emb|Z78459.1|PDZ78459\n",
      "Seq('CGTAACAAGGTTTCCGTAGGTGAACCTGCGGAAGGATCATTGTTGAGATCACAT...TTT')\n",
      "744\n",
      "gi|2765583|emb|Z78458.1|PHZ78458\n",
      "Seq('CGTAACAAGGTTTCCGTAGGTGAACCTGCGGAAGGATCATTGTTGAGATCACAT...TTG')\n",
      "738\n",
      "gi|2765582|emb|Z78457.1|PCZ78457\n",
      "Seq('CGTAACAAGGTTTCCGTAGGTGAACCTCCGGAAGGATCATTGTTGAGATCACAT...GAG')\n",
      "739\n",
      "gi|2765581|emb|Z78456.1|PTZ78456\n",
      "Seq('CGTAACAAGGTTTCCGTAGGTGAACCTGCGGAAGGATCATTGTTGAGATCACAT...AGC')\n",
      "740\n",
      "gi|2765580|emb|Z78455.1|PJZ78455\n",
      "Seq('CGTAACCAGGTTTCCGTAGGTGGACCTTCGGGAGGATCATTTTTGAGATCACAT...GCA')\n",
      "745\n",
      "gi|2765579|emb|Z78454.1|PFZ78454\n",
      "Seq('CGTAACAAGGTTTCCGTAGGTGAACCTGCGGAAGGATCATTGTTGAGATCACAT...AAC')\n",
      "695\n",
      "gi|2765578|emb|Z78453.1|PSZ78453\n",
      "Seq('CGTAACAAGGTTTCCGTAGGTGAACCTGCGGAAGGATCATTGTTGAGATCACAT...GCA')\n",
      "745\n",
      "gi|2765577|emb|Z78452.1|PBZ78452\n",
      "Seq('CGTAACAAGGTTTCCGTAGGTGAACCTGCGGAAGGATCATTGTTGAGATCACAT...GCA')\n",
      "743\n",
      "gi|2765576|emb|Z78451.1|PHZ78451\n",
      "Seq('CGTAACAAGGTTTCCGTAGGTGTACCTCCGGAAGGATCATTGTTGAGATCACAT...AGC')\n",
      "730\n",
      "gi|2765575|emb|Z78450.1|PPZ78450\n",
      "Seq('GGAAGGATCATTGCTGATATCACATAATAATTGATCGAGTTAAGCTGGAGGATC...GAG')\n",
      "706\n",
      "gi|2765574|emb|Z78449.1|PMZ78449\n",
      "Seq('CGTAACAAGGTTTCCGTAGGTGAACCTGCGGAAGGATCATTGTTGAGATCACAT...TGC')\n",
      "744\n",
      "gi|2765573|emb|Z78448.1|PAZ78448\n",
      "Seq('CGTAACAAGGTTTCCGTAGGTGAACCTGCGGAAGGATCATTGTTGAGATCACAT...AGG')\n",
      "742\n",
      "gi|2765572|emb|Z78447.1|PVZ78447\n",
      "Seq('CGTAACAAGGATTCCGTAGGTGAACCTGCGGGAGGATCATTGTTGAGATCACAT...AGC')\n",
      "694\n",
      "gi|2765571|emb|Z78446.1|PAZ78446\n",
      "Seq('CGTAACAAGGTTTCCGTAGGTGAACCTCCGGAAGGATCATTGTTGAGATCACAT...CCC')\n",
      "712\n",
      "gi|2765570|emb|Z78445.1|PUZ78445\n",
      "Seq('CGTAACAAGGTTTCCGTAGGTGAACCTGCGGAAGGATCATTGTTGAGATCACAT...TGT')\n",
      "715\n",
      "gi|2765569|emb|Z78444.1|PAZ78444\n",
      "Seq('CGTAACAAGGTTTCCGTAGGGTGAACTGCGGAAGGATCATTGTTGAGATCACAT...ATT')\n",
      "688\n",
      "gi|2765568|emb|Z78443.1|PLZ78443\n",
      "Seq('CGTAACAAGGTTTCCGTAGGTGAACCTGCGGAAGGATCATTGTTGAGATCACAT...AGG')\n",
      "784\n",
      "gi|2765567|emb|Z78442.1|PBZ78442\n",
      "Seq('GTAGGTGAACCTGCGGAAGGATCATTGTTGAGATCACATAATAATTGATCGAGT...AGT')\n",
      "721\n",
      "gi|2765566|emb|Z78441.1|PSZ78441\n",
      "Seq('GGAAGGTCATTGCCGATATCACATAATAATTGATCGAGTTAATCTGGAGGATCT...GAG')\n",
      "703\n",
      "gi|2765565|emb|Z78440.1|PPZ78440\n",
      "Seq('CGTAACAAGGTTTCCGTAGGTGGACCTCCGGGAGGATCATTGTTGAGATCACAT...GCA')\n",
      "744\n",
      "gi|2765564|emb|Z78439.1|PBZ78439\n",
      "Seq('CATTGTTGAGATCACATAATAATTGATCGAGTTAATCTGGAGGATCTGTTTACT...GCC')\n",
      "592\n"
     ]
    }
   ],
   "source": [
    "identifiers = [(print(seq_record.id), print(repr(seq_record.seq)), print(len(seq_record))) for seq_record in SeqIO.parse(path/fname, 'fasta')]\n",
    "#identifiers[:10]\n",
    "# identifiers = [[seq_record.id, repr(seq_record.seq), len(seq_record)] for seq_record in SeqIO.parse(path/fname, 'fasta')]"
   ]
  },
  {
   "cell_type": "code",
   "execution_count": 15,
   "metadata": {},
   "outputs": [
    {
     "name": "stdout",
     "output_type": "stream",
     "text": [
      "gi|2765658|emb|Z78533.1|CIZ78533\n",
      "gi|2765658|emb|Z78533.1|CIZ78533 C.irapeanum 5.8S rRNA gene and ITS1 and ITS2 DNA\n"
     ]
    }
   ],
   "source": [
    "# iterating over records in a sequence file\n",
    "record_iterator = SeqIO.parse(path/fname, 'fasta')\n",
    "\n",
    "first_rec = next(record_iterator)\n",
    "print(first_rec.id)\n",
    "print(first_rec.description)"
   ]
  },
  {
   "cell_type": "code",
   "execution_count": 8,
   "metadata": {},
   "outputs": [
    {
     "name": "stdout",
     "output_type": "stream",
     "text": [
      "gi|2765657|emb|Z78532.1|CCZ78532\n",
      "gi|2765657|emb|Z78532.1|CCZ78532 C.californicum 5.8S rRNA gene and ITS1 and ITS2 DNA\n"
     ]
    }
   ],
   "source": [
    "second_rec = next(record_iterator)\n",
    "print(second_rec.id)\n",
    "print(second_rec.description)"
   ]
  },
  {
   "cell_type": "code",
   "execution_count": 9,
   "metadata": {},
   "outputs": [],
   "source": [
    "third_rec = next(record_iterator)"
   ]
  },
  {
   "cell_type": "code",
   "execution_count": 10,
   "metadata": {},
   "outputs": [
    {
     "name": "stdout",
     "output_type": "stream",
     "text": [
      "gi|2765656|emb|Z78531.1|CFZ78531\n"
     ]
    }
   ],
   "source": [
    "print(third_rec.id)"
   ]
  },
  {
   "cell_type": "code",
   "execution_count": 11,
   "metadata": {},
   "outputs": [],
   "source": [
    "fname2 = '/Users/mathewlong/Documents/Machine-Learning-Models-Data/Genomic-Data/ls_orchid.gbk'"
   ]
  },
  {
   "cell_type": "code",
   "execution_count": 12,
   "metadata": {},
   "outputs": [
    {
     "name": "stdout",
     "output_type": "stream",
     "text": [
      "Found 94 records\n"
     ]
    }
   ],
   "source": [
    "# getting a list of the records in the sequence file\n",
    "records = list(SeqIO.parse(path/fname2, 'genbank'))\n",
    "print('Found %i records' % len(records))"
   ]
  },
  {
   "cell_type": "code",
   "execution_count": 13,
   "metadata": {},
   "outputs": [
    {
     "name": "stdout",
     "output_type": "stream",
     "text": [
      "the last record\n",
      "Z78439.1\n",
      "CATTGTTGAGATCACATAATAATTGATCGAGTTAATCTGGAGGATCTGTTTACTTTGGTCACCCATGGGCATTTGCTGTTGAAGTGACCTAGATTTGCCATCGAGCCTCCTTGGGAGCTTTCTTGTTGGCGAGATCTAAACCCCTGCCCGGCGGAGTTGGGCGCCAAGTCATATGACACATAATTGGTGAAGGGGGTGGTAATCCTGCCCTGACCCTCCCCAAATTATTTTTTTAACAACTCTCAGCAACGGATATCTCGGCTCTTGCATCGATGAAGAACGCAGCGAAATGCGATAATGGTGTGAATTGCAGAATCCCGTGAACATCGAGTCTTTGAACGCAAGTTGCGCCCGAGGCCATCAGGCCAAGGGCACGCCTGCCTGGGCATTGCGAGTCATATCTCTCCCTTAATGAGGCTGTCCATACATACTGTTCAGCCGGTGCGGATGTGAGTTTGGCCCCTTGTTCTTTGGTACGGGGGGTCTAAGAGCTGCATGGGCTTTGGATGGTCCTAAATACGGAAAGAGGTGGACGAACTATGCTACAACAAAATTGTTGTGCAAATGCCCCGGTTGGCCGTTTAGTTGGGCC\n",
      "592\n"
     ]
    }
   ],
   "source": [
    "print('the last record')\n",
    "last_record = records[-1] # \n",
    "print(last_record.id)\n",
    "print(last_record.seq)\n",
    "print(len(last_record))"
   ]
  },
  {
   "cell_type": "code",
   "execution_count": 16,
   "metadata": {},
   "outputs": [
    {
     "name": "stdout",
     "output_type": "stream",
     "text": [
      "the first record\n",
      "Z78533.1\n",
      "CGTAACAAGGTTTCCGTAGGTGAACCTGCGGAAGGATCATTGATGAGACCGTGGAATAAACGATCGAGTGAATCCGGAGGACCGGTGTACTCAGCTCACCGGGGGCATTGCTCCCGTGGTGACCCTGATTTGTTGTTGGGCCGCCTCGGGAGCGTCCATGGCGGGTTTGAACCTCTAGCCCGGCGCAGTTTGGGCGCCAAGCCATATGAAAGCATCACCGGCGAATGGCATTGTCTTCCCCAAAACCCGGAGCGGCGGCGTGCTGTCGCGTGCCCAATGAATTTTGATGACTCTCGCAAACGGGAATCTTGGCTCTTTGCATCGGATGGAAGGACGCAGCGAAATGCGATAAGTGGTGTGAATTGCAAGATCCCGTGAACCATCGAGTCTTTTGAACGCAAGTTGCGCCCGAGGCCATCAGGCTAAGGGCACGCCTGCTTGGGCGTCGCGCTTCGTCTCTCTCCTGCCAATGCTTGCCCGGCATACAGCCAGGCCGGCGTGGTGCGGATGTGAAAGATTGGCCCCTTGTGCCTAGGTGCGGCGGGTCCAAGAGCTGGTGTTTTGATGGCCCGGAACCCGGCAAGAGGTGGACGGATGCTGGCAGCAGCTGCCGTGCGAATCCCCCATGTTGTCGTGCTTGTCGGACAGGCAGGAGAACCCTTCCGAACCCCAATGGAGGGCGGTTGACCGCCATTCGGATGTGACCCCAGGTCAGGCGGGGGCACCCGCTGAGTTTACGC\n",
      "740\n"
     ]
    }
   ],
   "source": [
    "print('the first record')\n",
    "first_record = records[0]\n",
    "print(first_record.id)\n",
    "print(first_record.seq)\n",
    "print(len(first_record))"
   ]
  },
  {
   "cell_type": "code",
   "execution_count": 17,
   "metadata": {},
   "outputs": [
    {
     "name": "stdout",
     "output_type": "stream",
     "text": [
      "ID: Z78533.1\n",
      "Name: Z78533\n",
      "Description: C.irapeanum 5.8S rRNA gene and ITS1 and ITS2 DNA\n",
      "Number of features: 5\n",
      "/molecule_type=DNA\n",
      "/topology=linear\n",
      "/data_file_division=PLN\n",
      "/date=30-NOV-2006\n",
      "/accessions=['Z78533']\n",
      "/sequence_version=1\n",
      "/gi=2765658\n",
      "/keywords=['5.8S ribosomal RNA', '5.8S rRNA gene', 'internal transcribed spacer', 'ITS1', 'ITS2']\n",
      "/source=Cypripedium irapeanum\n",
      "/organism=Cypripedium irapeanum\n",
      "/taxonomy=['Eukaryota', 'Viridiplantae', 'Streptophyta', 'Embryophyta', 'Tracheophyta', 'Spermatophyta', 'Magnoliophyta', 'Liliopsida', 'Asparagales', 'Orchidaceae', 'Cypripedioideae', 'Cypripedium']\n",
      "/references=[Reference(title='Phylogenetics of the slipper orchids (Cypripedioideae: Orchidaceae): nuclear rDNA ITS sequences', ...), Reference(title='Direct Submission', ...)]\n",
      "Seq('CGTAACAAGGTTTCCGTAGGTGAACCTGCGGAAGGATCATTGATGAGACCGTGG...CGC')\n"
     ]
    }
   ],
   "source": [
    "# extracting data\n",
    "record_iter = SeqIO.parse(path/fname2, 'genbank')\n",
    "first_rec = next(record_iter)\n",
    "print(first_rec)"
   ]
  },
  {
   "cell_type": "code",
   "execution_count": 18,
   "metadata": {},
   "outputs": [
    {
     "name": "stdout",
     "output_type": "stream",
     "text": [
      "{'molecule_type': 'DNA', 'topology': 'linear', 'data_file_division': 'PLN', 'date': '30-NOV-2006', 'accessions': ['Z78533'], 'sequence_version': 1, 'gi': '2765658', 'keywords': ['5.8S ribosomal RNA', '5.8S rRNA gene', 'internal transcribed spacer', 'ITS1', 'ITS2'], 'source': 'Cypripedium irapeanum', 'organism': 'Cypripedium irapeanum', 'taxonomy': ['Eukaryota', 'Viridiplantae', 'Streptophyta', 'Embryophyta', 'Tracheophyta', 'Spermatophyta', 'Magnoliophyta', 'Liliopsida', 'Asparagales', 'Orchidaceae', 'Cypripedioideae', 'Cypripedium'], 'references': [Reference(title='Phylogenetics of the slipper orchids (Cypripedioideae: Orchidaceae): nuclear rDNA ITS sequences', ...), Reference(title='Direct Submission', ...)]}\n"
     ]
    }
   ],
   "source": [
    "print(first_rec.annotations)"
   ]
  },
  {
   "cell_type": "code",
   "execution_count": 19,
   "metadata": {},
   "outputs": [
    {
     "name": "stdout",
     "output_type": "stream",
     "text": [
      "dict_keys(['molecule_type', 'topology', 'data_file_division', 'date', 'accessions', 'sequence_version', 'gi', 'keywords', 'source', 'organism', 'taxonomy', 'references'])\n"
     ]
    }
   ],
   "source": [
    "print(first_rec.annotations.keys())"
   ]
  },
  {
   "cell_type": "code",
   "execution_count": 20,
   "metadata": {},
   "outputs": [
    {
     "name": "stdout",
     "output_type": "stream",
     "text": [
      "dict_values(['DNA', 'linear', 'PLN', '30-NOV-2006', ['Z78533'], 1, '2765658', ['5.8S ribosomal RNA', '5.8S rRNA gene', 'internal transcribed spacer', 'ITS1', 'ITS2'], 'Cypripedium irapeanum', 'Cypripedium irapeanum', ['Eukaryota', 'Viridiplantae', 'Streptophyta', 'Embryophyta', 'Tracheophyta', 'Spermatophyta', 'Magnoliophyta', 'Liliopsida', 'Asparagales', 'Orchidaceae', 'Cypripedioideae', 'Cypripedium'], [Reference(title='Phylogenetics of the slipper orchids (Cypripedioideae: Orchidaceae): nuclear rDNA ITS sequences', ...), Reference(title='Direct Submission', ...)]])\n"
     ]
    }
   ],
   "source": [
    "print(first_rec.annotations.values())"
   ]
  },
  {
   "cell_type": "code",
   "execution_count": 21,
   "metadata": {},
   "outputs": [
    {
     "name": "stdout",
     "output_type": "stream",
     "text": [
      "Cypripedium irapeanum\n"
     ]
    }
   ],
   "source": [
    "print(first_rec.annotations['source'])"
   ]
  },
  {
   "cell_type": "code",
   "execution_count": 22,
   "metadata": {},
   "outputs": [
    {
     "name": "stdout",
     "output_type": "stream",
     "text": [
      "['Cypripedium irapeanum', 'Cypripedium californicum', 'Cypripedium fasciculatum', 'Cypripedium margaritaceum', 'Cypripedium lichiangense', 'Cypripedium yatabeanum', 'Cypripedium guttatum', 'Cypripedium acaule', 'Cypripedium formosanum', 'Cypripedium himalaicum', 'Cypripedium macranthon', 'Cypripedium calceolus', 'Cypripedium segawai', 'Cypripedium parviflorum var. pubescens', 'Cypripedium reginae', 'Cypripedium flavum', 'Cypripedium passerinum', 'Mexipedium xerophyticum', 'Phragmipedium schlimii', 'Phragmipedium besseae', 'Phragmipedium wallisii', 'Phragmipedium exstaminodium', 'Phragmipedium caricinum', 'Phragmipedium pearcei', 'Phragmipedium longifolium', 'Phragmipedium lindenii', 'Phragmipedium lindleyanum', 'Phragmipedium sargentianum', 'Phragmipedium kaiteurum', 'Phragmipedium czerwiakowianum', 'Phragmipedium boissierianum', 'Phragmipedium caudatum', 'Phragmipedium warszewiczianum', 'Paphiopedilum micranthum', 'Paphiopedilum malipoense', 'Paphiopedilum delenatii', 'Paphiopedilum armeniacum', 'Paphiopedilum emersonii', 'Paphiopedilum niveum', 'Paphiopedilum godefroyae', 'Paphiopedilum bellatulum', 'Paphiopedilum concolor', 'Paphiopedilum fairrieanum', 'Paphiopedilum druryi', 'Paphiopedilum tigrinum', 'Paphiopedilum hirsutissimum', 'Paphiopedilum barbigerum', 'Paphiopedilum henryanum', 'Paphiopedilum charlesworthii', 'Paphiopedilum villosum', 'Paphiopedilum exul', 'Paphiopedilum insigne', 'Paphiopedilum gratrixianum', 'Paphiopedilum primulinum', 'Paphiopedilum victoria', 'Paphiopedilum victoria', 'Paphiopedilum glaucophyllum', 'Paphiopedilum supardii', 'Paphiopedilum kolopakingii', 'Paphiopedilum sanderianum', 'Paphiopedilum lowii', 'Paphiopedilum dianthum', 'Paphiopedilum parishii', 'Paphiopedilum haynaldianum', 'Paphiopedilum adductum', 'Paphiopedilum stonei', 'Paphiopedilum philippinense', 'Paphiopedilum rothschildianum', 'Paphiopedilum glanduliferum', 'Paphiopedilum glanduliferum', 'Paphiopedilum sukhakulii', 'Paphiopedilum wardii', 'Paphiopedilum ciliolare', 'Paphiopedilum dayanum', 'Paphiopedilum hennisianum', 'Paphiopedilum callosum', 'Paphiopedilum tonsum', 'Paphiopedilum javanicum', 'Paphiopedilum fowliei', 'Paphiopedilum schoseri', 'Paphiopedilum bougainvilleanum', 'Paphiopedilum hookerae', 'Paphiopedilum papuanum', 'Paphiopedilum mastersianum', 'Paphiopedilum argus', 'Paphiopedilum venustum', 'Paphiopedilum acmodontum', 'Paphiopedilum urbanianum', 'Paphiopedilum appletonianum', 'Paphiopedilum lawrenceanum', 'Paphiopedilum bullenianum', 'Paphiopedilum superbiens', 'Paphiopedilum purpuratum', 'Paphiopedilum barbatum']\n"
     ]
    }
   ],
   "source": [
    "# build a list of species\n",
    "all_species = [seq_record.annotations['organism'] for seq_record in SeqIO.parse(path/fname2, 'genbank')]\n",
    "print(all_species)"
   ]
  },
  {
   "cell_type": "code",
   "execution_count": 29,
   "metadata": {},
   "outputs": [],
   "source": [
    "# for fasta file, need to write some code to extract the data you want\n",
    "all_species_fasta = [seq_record.description.split()[1] for seq_record in SeqIO.parse(path/fname, 'fasta')]"
   ]
  },
  {
   "cell_type": "code",
   "execution_count": 30,
   "metadata": {},
   "outputs": [
    {
     "name": "stdout",
     "output_type": "stream",
     "text": [
      "['C.irapeanum', 'C.californicum', 'C.fasciculatum', 'C.margaritaceum', 'C.lichiangense', 'C.yatabeanum', 'C.guttatum', 'C.acaule', 'C.formosanum', 'C.himalaicum', 'C.macranthum', 'C.calceolus', 'C.segawai', 'C.pubescens', 'C.reginae', 'C.flavum', 'C.passerinum', 'M.xerophyticum', 'P.schlimii', 'P.besseae', 'P.wallisii', 'P.exstaminodium', 'P.caricinum', 'P.pearcei', 'P.longifolium', 'P.lindenii', 'P.lindleyanum', 'P.sargentianum', 'P.kaiteurum', 'P.czerwiakowianum', 'P.boissierianum', 'P.caudatum', 'P.warszewiczianum', 'P.micranthum', 'P.malipoense', 'P.delenatii', 'P.armeniacum', 'P.emersonii', 'P.niveum', 'P.godefroyae', 'P.bellatulum', 'P.concolor', 'P.fairrieanum', 'P.druryi', 'P.tigrinum', 'P.hirsutissimum', 'P.barbigerum', 'P.henryanum', 'P.charlesworthii', 'P.villosum', 'P.exul', 'P.insigne', 'P.gratrixianum', 'P.primulinum', 'P.victoria', 'P.victoria', 'P.glaucophyllum', 'P.supardii', 'P.kolopakingii', 'P.sanderianum', 'P.lowii', 'P.dianthum', 'P.parishii', 'P.haynaldianum', 'P.adductum', 'P.stonei', 'P.philippinense', 'P.rothschildianum', 'P.glanduliferum', 'P.glanduliferum', 'P.sukhakulii', 'P.wardii', 'P.ciliolare', 'P.dayanum', 'P.hennisianum', 'P.callosum', 'P.tonsum', 'P.javanicum', 'P.fowliei', 'P.schoseri', 'P.bougainvilleanum', 'P.hookerae', 'P.papuanum', 'P.mastersianum', 'P.argus', 'P.venustum', 'P.acmodontum', 'P.urbanianum', 'P.appletonianum', 'P.lawrenceanum', 'P.bullenianum', 'P.superbiens', 'P.purpuratum', 'P.barbatum']\n"
     ]
    }
   ],
   "source": [
    "print(all_species_fasta)"
   ]
  },
  {
   "cell_type": "code",
   "execution_count": 31,
   "metadata": {},
   "outputs": [
    {
     "name": "stdout",
     "output_type": "stream",
     "text": [
      "67518\n"
     ]
    }
   ],
   "source": [
    "print(sum(len(r) for r in SeqIO.parse(path/fname, 'fasta')))"
   ]
  },
  {
   "cell_type": "code",
   "execution_count": 32,
   "metadata": {},
   "outputs": [
    {
     "name": "stdout",
     "output_type": "stream",
     "text": [
      "AF191665.1 with 0 features\n"
     ]
    }
   ],
   "source": [
    "# parsing Genbank records from the net\n",
    "from Bio import Entrez\n",
    "from Bio import SeqIO\n",
    "Entrez.email = 'A.N.Other@example.com'\n",
    "with Entrez.efetch(db = 'nucleotide', rettype='fasta', retmode='text', id='6273291') as handle:\n",
    "    seq_record = SeqIO.read(handle, 'fasta')\n",
    "\n",
    "print('%s with %i features' % (seq_record.id, len(seq_record.features)))"
   ]
  },
  {
   "cell_type": "code",
   "execution_count": 33,
   "metadata": {},
   "outputs": [],
   "source": [
    "# sequence files as dictionary - In Memory\n",
    "\n",
    "orchid_dict = SeqIO.to_dict(SeqIO.parse(path/fname2, 'genbank'))"
   ]
  },
  {
   "cell_type": "code",
   "execution_count": 34,
   "metadata": {},
   "outputs": [
    {
     "data": {
      "text/plain": [
       "94"
      ]
     },
     "execution_count": 34,
     "metadata": {},
     "output_type": "execute_result"
    }
   ],
   "source": [
    "len(orchid_dict)"
   ]
  },
  {
   "cell_type": "code",
   "execution_count": 35,
   "metadata": {},
   "outputs": [
    {
     "data": {
      "text/plain": [
       "['Z78533.1',\n",
       " 'Z78532.1',\n",
       " 'Z78531.1',\n",
       " 'Z78530.1',\n",
       " 'Z78529.1',\n",
       " 'Z78527.1',\n",
       " 'Z78526.1',\n",
       " 'Z78525.1',\n",
       " 'Z78524.1',\n",
       " 'Z78523.1',\n",
       " 'Z78522.1',\n",
       " 'Z78521.1',\n",
       " 'Z78520.1',\n",
       " 'Z78519.1',\n",
       " 'Z78518.1',\n",
       " 'Z78517.1',\n",
       " 'Z78516.1',\n",
       " 'Z78515.1',\n",
       " 'Z78514.1',\n",
       " 'Z78513.1',\n",
       " 'Z78512.1',\n",
       " 'Z78511.1',\n",
       " 'Z78510.1',\n",
       " 'Z78509.1',\n",
       " 'Z78508.1',\n",
       " 'Z78507.1',\n",
       " 'Z78506.1',\n",
       " 'Z78505.1',\n",
       " 'Z78504.1',\n",
       " 'Z78503.1',\n",
       " 'Z78502.1',\n",
       " 'Z78501.1',\n",
       " 'Z78500.1',\n",
       " 'Z78499.1',\n",
       " 'Z78498.1',\n",
       " 'Z78497.1',\n",
       " 'Z78496.1',\n",
       " 'Z78495.1',\n",
       " 'Z78494.1',\n",
       " 'Z78493.1',\n",
       " 'Z78492.1',\n",
       " 'Z78491.1',\n",
       " 'Z78490.1',\n",
       " 'Z78489.1',\n",
       " 'Z78488.1',\n",
       " 'Z78487.1',\n",
       " 'Z78486.1',\n",
       " 'Z78485.1',\n",
       " 'Z78484.1',\n",
       " 'Z78483.1',\n",
       " 'Z78482.1',\n",
       " 'Z78481.1',\n",
       " 'Z78480.1',\n",
       " 'Z78479.1',\n",
       " 'Z78478.1',\n",
       " 'Z78477.1',\n",
       " 'Z78476.1',\n",
       " 'Z78475.1',\n",
       " 'Z78474.1',\n",
       " 'Z78473.1',\n",
       " 'Z78472.1',\n",
       " 'Z78471.1',\n",
       " 'Z78470.1',\n",
       " 'Z78469.1',\n",
       " 'Z78468.1',\n",
       " 'Z78467.1',\n",
       " 'Z78466.1',\n",
       " 'Z78465.1',\n",
       " 'Z78464.1',\n",
       " 'Z78463.1',\n",
       " 'Z78462.1',\n",
       " 'Z78461.1',\n",
       " 'Z78460.1',\n",
       " 'Z78459.1',\n",
       " 'Z78458.1',\n",
       " 'Z78457.1',\n",
       " 'Z78456.1',\n",
       " 'Z78455.1',\n",
       " 'Z78454.1',\n",
       " 'Z78453.1',\n",
       " 'Z78452.1',\n",
       " 'Z78451.1',\n",
       " 'Z78450.1',\n",
       " 'Z78449.1',\n",
       " 'Z78448.1',\n",
       " 'Z78447.1',\n",
       " 'Z78446.1',\n",
       " 'Z78445.1',\n",
       " 'Z78444.1',\n",
       " 'Z78443.1',\n",
       " 'Z78442.1',\n",
       " 'Z78441.1',\n",
       " 'Z78440.1',\n",
       " 'Z78439.1']"
      ]
     },
     "execution_count": 35,
     "metadata": {},
     "output_type": "execute_result"
    }
   ],
   "source": [
    "list(orchid_dict.keys())\n",
    "\n",
    "# orchid_dict.keys()"
   ]
  },
  {
   "cell_type": "code",
   "execution_count": 36,
   "metadata": {},
   "outputs": [
    {
     "name": "stdout",
     "output_type": "stream",
     "text": [
      "P.supardii 5.8S rRNA gene and ITS1 and ITS2 DNA\n"
     ]
    }
   ],
   "source": [
    "seq_record = orchid_dict['Z78475.1']\n",
    "print(seq_record.description)"
   ]
  },
  {
   "cell_type": "code",
   "execution_count": 37,
   "metadata": {},
   "outputs": [
    {
     "name": "stdout",
     "output_type": "stream",
     "text": [
      "Seq('CGTAACAAGGTTTCCGTAGGTGAACCTGCGGAAGGATCATTGTTGAGATCACAT...GGT')\n"
     ]
    }
   ],
   "source": [
    "print(repr(seq_record.seq))"
   ]
  },
  {
   "cell_type": "code",
   "execution_count": 39,
   "metadata": {},
   "outputs": [
    {
     "name": "stdout",
     "output_type": "stream",
     "text": [
      "dict_keys(['gi|2765658|emb|Z78533.1|CIZ78533', 'gi|2765657|emb|Z78532.1|CCZ78532', 'gi|2765656|emb|Z78531.1|CFZ78531', 'gi|2765655|emb|Z78530.1|CMZ78530', 'gi|2765654|emb|Z78529.1|CLZ78529', 'gi|2765652|emb|Z78527.1|CYZ78527', 'gi|2765651|emb|Z78526.1|CGZ78526', 'gi|2765650|emb|Z78525.1|CAZ78525', 'gi|2765649|emb|Z78524.1|CFZ78524', 'gi|2765648|emb|Z78523.1|CHZ78523', 'gi|2765647|emb|Z78522.1|CMZ78522', 'gi|2765646|emb|Z78521.1|CCZ78521', 'gi|2765645|emb|Z78520.1|CSZ78520', 'gi|2765644|emb|Z78519.1|CPZ78519', 'gi|2765643|emb|Z78518.1|CRZ78518', 'gi|2765642|emb|Z78517.1|CFZ78517', 'gi|2765641|emb|Z78516.1|CPZ78516', 'gi|2765640|emb|Z78515.1|MXZ78515', 'gi|2765639|emb|Z78514.1|PSZ78514', 'gi|2765638|emb|Z78513.1|PBZ78513', 'gi|2765637|emb|Z78512.1|PWZ78512', 'gi|2765636|emb|Z78511.1|PEZ78511', 'gi|2765635|emb|Z78510.1|PCZ78510', 'gi|2765634|emb|Z78509.1|PPZ78509', 'gi|2765633|emb|Z78508.1|PLZ78508', 'gi|2765632|emb|Z78507.1|PLZ78507', 'gi|2765631|emb|Z78506.1|PLZ78506', 'gi|2765630|emb|Z78505.1|PSZ78505', 'gi|2765629|emb|Z78504.1|PKZ78504', 'gi|2765628|emb|Z78503.1|PCZ78503', 'gi|2765627|emb|Z78502.1|PBZ78502', 'gi|2765626|emb|Z78501.1|PCZ78501', 'gi|2765625|emb|Z78500.1|PWZ78500', 'gi|2765624|emb|Z78499.1|PMZ78499', 'gi|2765623|emb|Z78498.1|PMZ78498', 'gi|2765622|emb|Z78497.1|PDZ78497', 'gi|2765621|emb|Z78496.1|PAZ78496', 'gi|2765620|emb|Z78495.1|PEZ78495', 'gi|2765619|emb|Z78494.1|PNZ78494', 'gi|2765618|emb|Z78493.1|PGZ78493', 'gi|2765617|emb|Z78492.1|PBZ78492', 'gi|2765616|emb|Z78491.1|PCZ78491', 'gi|2765615|emb|Z78490.1|PFZ78490', 'gi|2765614|emb|Z78489.1|PDZ78489', 'gi|2765613|emb|Z78488.1|PTZ78488', 'gi|2765612|emb|Z78487.1|PHZ78487', 'gi|2765611|emb|Z78486.1|PBZ78486', 'gi|2765610|emb|Z78485.1|PHZ78485', 'gi|2765609|emb|Z78484.1|PCZ78484', 'gi|2765608|emb|Z78483.1|PVZ78483', 'gi|2765607|emb|Z78482.1|PEZ78482', 'gi|2765606|emb|Z78481.1|PIZ78481', 'gi|2765605|emb|Z78480.1|PGZ78480', 'gi|2765604|emb|Z78479.1|PPZ78479', 'gi|2765603|emb|Z78478.1|PVZ78478', 'gi|2765602|emb|Z78477.1|PVZ78477', 'gi|2765601|emb|Z78476.1|PGZ78476', 'gi|2765600|emb|Z78475.1|PSZ78475', 'gi|2765599|emb|Z78474.1|PKZ78474', 'gi|2765598|emb|Z78473.1|PSZ78473', 'gi|2765597|emb|Z78472.1|PLZ78472', 'gi|2765596|emb|Z78471.1|PDZ78471', 'gi|2765595|emb|Z78470.1|PPZ78470', 'gi|2765594|emb|Z78469.1|PHZ78469', 'gi|2765593|emb|Z78468.1|PAZ78468', 'gi|2765592|emb|Z78467.1|PSZ78467', 'gi|2765591|emb|Z78466.1|PPZ78466', 'gi|2765590|emb|Z78465.1|PRZ78465', 'gi|2765589|emb|Z78464.1|PGZ78464', 'gi|2765588|emb|Z78463.1|PGZ78463', 'gi|2765587|emb|Z78462.1|PSZ78462', 'gi|2765586|emb|Z78461.1|PWZ78461', 'gi|2765585|emb|Z78460.1|PCZ78460', 'gi|2765584|emb|Z78459.1|PDZ78459', 'gi|2765583|emb|Z78458.1|PHZ78458', 'gi|2765582|emb|Z78457.1|PCZ78457', 'gi|2765581|emb|Z78456.1|PTZ78456', 'gi|2765580|emb|Z78455.1|PJZ78455', 'gi|2765579|emb|Z78454.1|PFZ78454', 'gi|2765578|emb|Z78453.1|PSZ78453', 'gi|2765577|emb|Z78452.1|PBZ78452', 'gi|2765576|emb|Z78451.1|PHZ78451', 'gi|2765575|emb|Z78450.1|PPZ78450', 'gi|2765574|emb|Z78449.1|PMZ78449', 'gi|2765573|emb|Z78448.1|PAZ78448', 'gi|2765572|emb|Z78447.1|PVZ78447', 'gi|2765571|emb|Z78446.1|PAZ78446', 'gi|2765570|emb|Z78445.1|PUZ78445', 'gi|2765569|emb|Z78444.1|PAZ78444', 'gi|2765568|emb|Z78443.1|PLZ78443', 'gi|2765567|emb|Z78442.1|PBZ78442', 'gi|2765566|emb|Z78441.1|PSZ78441', 'gi|2765565|emb|Z78440.1|PPZ78440', 'gi|2765564|emb|Z78439.1|PBZ78439'])\n"
     ]
    }
   ],
   "source": [
    "# specifying the dictionary keys\n",
    "orchid_dict = SeqIO.to_dict(SeqIO.parse(path/fname, 'fasta'))\n",
    "print(orchid_dict.keys())"
   ]
  },
  {
   "cell_type": "code",
   "execution_count": 40,
   "metadata": {},
   "outputs": [],
   "source": [
    "def get_accession(record):\n",
    "    \"\"\"given a seq record, return the accession number as a string\n",
    "    e.g. \"gi|2765613|emb|Z78488.1|PTZ78488\" -> \"Z78488.1\"      \"\"\"\n",
    "    \n",
    "    parts = record.id.split('|')\n",
    "    assert len(parts) == 5 and parts[0] == 'gi' and parts[2] == 'emb'\n",
    "    return parts[3]"
   ]
  },
  {
   "cell_type": "code",
   "execution_count": 41,
   "metadata": {},
   "outputs": [
    {
     "name": "stdout",
     "output_type": "stream",
     "text": [
      "dict_keys(['Z78533.1', 'Z78532.1', 'Z78531.1', 'Z78530.1', 'Z78529.1', 'Z78527.1', 'Z78526.1', 'Z78525.1', 'Z78524.1', 'Z78523.1', 'Z78522.1', 'Z78521.1', 'Z78520.1', 'Z78519.1', 'Z78518.1', 'Z78517.1', 'Z78516.1', 'Z78515.1', 'Z78514.1', 'Z78513.1', 'Z78512.1', 'Z78511.1', 'Z78510.1', 'Z78509.1', 'Z78508.1', 'Z78507.1', 'Z78506.1', 'Z78505.1', 'Z78504.1', 'Z78503.1', 'Z78502.1', 'Z78501.1', 'Z78500.1', 'Z78499.1', 'Z78498.1', 'Z78497.1', 'Z78496.1', 'Z78495.1', 'Z78494.1', 'Z78493.1', 'Z78492.1', 'Z78491.1', 'Z78490.1', 'Z78489.1', 'Z78488.1', 'Z78487.1', 'Z78486.1', 'Z78485.1', 'Z78484.1', 'Z78483.1', 'Z78482.1', 'Z78481.1', 'Z78480.1', 'Z78479.1', 'Z78478.1', 'Z78477.1', 'Z78476.1', 'Z78475.1', 'Z78474.1', 'Z78473.1', 'Z78472.1', 'Z78471.1', 'Z78470.1', 'Z78469.1', 'Z78468.1', 'Z78467.1', 'Z78466.1', 'Z78465.1', 'Z78464.1', 'Z78463.1', 'Z78462.1', 'Z78461.1', 'Z78460.1', 'Z78459.1', 'Z78458.1', 'Z78457.1', 'Z78456.1', 'Z78455.1', 'Z78454.1', 'Z78453.1', 'Z78452.1', 'Z78451.1', 'Z78450.1', 'Z78449.1', 'Z78448.1', 'Z78447.1', 'Z78446.1', 'Z78445.1', 'Z78444.1', 'Z78443.1', 'Z78442.1', 'Z78441.1', 'Z78440.1', 'Z78439.1'])\n"
     ]
    }
   ],
   "source": [
    "orchid_dict = SeqIO.to_dict(SeqIO.parse(path/fname, 'fasta'), key_function=get_accession)\n",
    "print(orchid_dict.keys())"
   ]
  },
  {
   "cell_type": "code",
   "execution_count": 42,
   "metadata": {},
   "outputs": [
    {
     "data": {
      "text/plain": [
       "94"
      ]
     },
     "execution_count": 42,
     "metadata": {},
     "output_type": "execute_result"
    }
   ],
   "source": [
    "# sequence files as dictionaries - indexed files\n",
    "# does not take a handle, only a filename\n",
    "orchid_dict2 = SeqIO.index('..Genomic-Data/ls_orchid.gbk', 'genbank')\n",
    "len(orchid_dict2)"
   ]
  },
  {
   "cell_type": "code",
   "execution_count": 43,
   "metadata": {},
   "outputs": [
    {
     "data": {
      "text/plain": [
       "KeysView(SeqIO.index('/Users/mathewlong/Documents/Machine-Learning-Models-Data/Genomic-Data/ls_orchid.gbk', 'genbank', alphabet=None, key_function=None))"
      ]
     },
     "execution_count": 43,
     "metadata": {},
     "output_type": "execute_result"
    }
   ],
   "source": [
    "orchid_dict2.keys()"
   ]
  },
  {
   "cell_type": "code",
   "execution_count": 44,
   "metadata": {},
   "outputs": [],
   "source": [
    "# writing sequence files\n",
    "from Bio.Seq import Seq\n",
    "from Bio.SeqRecord import SeqRecord"
   ]
  },
  {
   "cell_type": "code",
   "execution_count": 49,
   "metadata": {},
   "outputs": [],
   "source": [
    "rec1 = SeqRecord(Seq(\"MMYQQGCFAGGTVLRLAKDLAENNRGARVLVVCSEITAVTFRGPSETHLDSMVGQALFGD\" \\\n",
    "                    +\"GAGAVIVGSDPDLSVERPLYELVWTGATLLPDSEGAIDGHLREVGLTFHLLKDVPGLISK\" \\\n",
    "                    +\"NIEKSLKEAFTPLGISDWNSTFWIAHPGGPAILDQVEAKLGLKEEKMRATREVLSEYGNM\" \\\n",
    "                    +\"SSAC\"),\n",
    "                 id=\"gi|14150838|gb|AAK54648.1|AF376133_1\",\n",
    "                 description=\"chalcone synthase [Cucumis sativus]\")\n",
    "\n",
    "rec2 = SeqRecord(Seq(\"YPDYYFRITNREHKAELKEKFQRMCDKSMIKKRYMYLTEEILKENPSMCEYMAPSLDARQ\" \\\n",
    "                    +\"DMVVVEIPKLGKEAAVKAIKEWGQ\"),\n",
    "                 id=\"gi|13919613|gb|AAK33142.1|\",\n",
    "                 description=\"chalcone synthase [Fragaria vesca subsp. bracteata]\")\n",
    "\n",
    "rec3 = SeqRecord(Seq(\"MVTVEEFRRAQCAEGPATVMAIGTATPSNCVDQSTYPDYYFRITNSEHKVELKEKFKRMC\" \\\n",
    "                    +\"EKSMIKKRYMHLTEEILKENPNICAYMAPSLDARQDIVVVEVPKLGKEAAQKAIKEWGQP\" \\\n",
    "                    +\"KSKITHLVFCTTSGVDMPGCDYQLTKLLGLRPSVKRFMMYQQGCFAGGTVLRMAKDLAEN\" \\\n",
    "                    +\"NKGARVLVVCSEITAVTFRGPNDTHLDSLVGQALFGDGAAAVIIGSDPIPEVERPLFELV\" \\\n",
    "                    +\"SAAQTLLPDSEGAIDGHLREVGLTFHLLKDVPGLISKNIEKSLVEAFQPLGISDWNSLFW\" \\\n",
    "                    +\"IAHPGGPAILDQVELKLGLKQEKLKATRKVLSNYGNMSSACVLFILDEMRKASAKEGLGT\" \\\n",
    "                    +\"TGEGLEWGVLFGFGPGLTVETVVLHSVAT\"),\n",
    "                 id=\"gi|13925890|gb|AAK49457.1|\",\n",
    "                 description=\"chalcone synthase [Nicotiana tabacum]\")\n"
   ]
  },
  {
   "cell_type": "code",
   "execution_count": 50,
   "metadata": {},
   "outputs": [],
   "source": [
    "my_records = [rec1, rec2, rec3]"
   ]
  },
  {
   "cell_type": "code",
   "execution_count": 54,
   "metadata": {},
   "outputs": [
    {
     "data": {
      "text/plain": [
       "3"
      ]
     },
     "execution_count": 54,
     "metadata": {},
     "output_type": "execute_result"
    }
   ],
   "source": [
    "# write records to fasta format\n",
    "SeqIO.write(my_records, 'my_example_fasta.faa', 'fasta')"
   ]
  },
  {
   "cell_type": "code",
   "execution_count": 55,
   "metadata": {},
   "outputs": [
    {
     "data": {
      "text/plain": [
       "3"
      ]
     },
     "execution_count": 55,
     "metadata": {},
     "output_type": "execute_result"
    }
   ],
   "source": [
    "len(my_records)"
   ]
  },
  {
   "cell_type": "code",
   "execution_count": null,
   "metadata": {},
   "outputs": [],
   "source": []
  }
 ],
 "metadata": {
  "kernelspec": {
   "display_name": "Python 3",
   "language": "python",
   "name": "python3"
  },
  "language_info": {
   "codemirror_mode": {
    "name": "ipython",
    "version": 3
   },
   "file_extension": ".py",
   "mimetype": "text/x-python",
   "name": "python",
   "nbconvert_exporter": "python",
   "pygments_lexer": "ipython3",
   "version": "3.7.6"
  }
 },
 "nbformat": 4,
 "nbformat_minor": 4
}
